{
 "cells": [
  {
   "cell_type": "code",
   "execution_count": 5,
   "metadata": {},
   "outputs": [],
   "source": [
    "import pandas as pandas\n",
    "import re"
   ]
  },
  {
   "cell_type": "code",
   "execution_count": 12,
   "metadata": {},
   "outputs": [],
   "source": [
    "# Aniket word extraction\n",
    "\n",
    "with open('myesha.txt', 'r', encoding='utf-8') as file:\n",
    "    text = file.read()\n",
    "        \n",
    "with open('myesha_words.txt', 'w', encoding='utf-8') as f:\n",
    "   words = re.findall(r'\\d+\\.\\s+(\\S+)', text)\n",
    "   for word in words:\n",
    "        f.write(word + '\\n')\n",
    "   "
   ]
  },
  {
   "cell_type": "code",
   "execution_count": null,
   "metadata": {},
   "outputs": [],
   "source": [
    "# Myesha words extract\n",
    "\n",
    "# Read from input file\n",
    "with open('nadim_words.txt', 'r', encoding='utf-8') as file:\n",
    "    text = file.read()\n",
    "\n",
    "# Regex to extract Bengali words before the parentheses\n",
    "bangla_words = re.findall(r'^(\\S+)\\s+\\(', text, re.MULTILINE)\n",
    "\n",
    "# Write extracted Bengali words into a new file\n",
    "with open('nadim.txt', 'w', encoding='utf-8') as file:\n",
    "    for word in bangla_words:\n",
    "        file.write(word + '\\n')"
   ]
  },
  {
   "cell_type": "code",
   "execution_count": 14,
   "metadata": {},
   "outputs": [
    {
     "name": "stdout",
     "output_type": "stream",
     "text": [
      "Files processed successfully.\n"
     ]
    }
   ],
   "source": [
    "files = ['aniket.txt', 'nadim.txt', 'myesha.txt', 'swarnendu.tsv']\n",
    "\n",
    "# Dictionary to hold sets of words from each file\n",
    "file_words = {}\n",
    "\n",
    "# Read files into sets\n",
    "for fname in files:\n",
    "    with open(fname, 'r') as f:\n",
    "        if fname.endswith('.tsv'):\n",
    "            words = set(line.strip().split('\\t')[0] for line in f if line.strip())\n",
    "        else:\n",
    "            words = set(line.strip() for line in f if line.strip())\n",
    "        file_words[fname] = words\n",
    "\n",
    "# Write merged master file\n",
    "with open('master.txt', 'w') as f:\n",
    "    master_words = sorted(set.union(*file_words.values()))\n",
    "    for word in master_words:\n",
    "        f.write(f\"{word}\\n\")\n",
    "\n",
    "# Identify unique words in each file\n",
    "with open('unique_words.txt', 'w') as f:\n",
    "    for fname in files:\n",
    "        other_files = set.union(*(file_words[other] for other in files if other != fname))\n",
    "        unique = sorted(file_words[fname] - other_files)\n",
    "        f.write(f\"--- Unique words in {fname} ---\\n\")\n",
    "        for word in unique:\n",
    "            f.write(f\"{word}\\n\")\n",
    "        f.write(\"\\n\")\n",
    "\n",
    "print(\"Files processed successfully.\")"
   ]
  },
  {
   "cell_type": "code",
   "execution_count": null,
   "metadata": {},
   "outputs": [],
   "source": []
  }
 ],
 "metadata": {
  "kernelspec": {
   "display_name": "scraper",
   "language": "python",
   "name": "python3"
  },
  "language_info": {
   "codemirror_mode": {
    "name": "ipython",
    "version": 3
   },
   "file_extension": ".py",
   "mimetype": "text/x-python",
   "name": "python",
   "nbconvert_exporter": "python",
   "pygments_lexer": "ipython3",
   "version": "3.9.19"
  }
 },
 "nbformat": 4,
 "nbformat_minor": 2
}
